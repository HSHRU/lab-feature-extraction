{
 "cells": [
  {
   "cell_type": "code",
   "execution_count": 1,
   "id": "b45e2d41",
   "metadata": {},
   "outputs": [],
   "source": [
    "import pandas as pd\n",
    "import seaborn as sns\n",
    "import matplotlib.pyplot as plt\n",
    "import numpy as np\n",
    "import seaborn as sns\n",
    "sns.set_theme(style=\"darkgrid\")"
   ]
  },
  {
   "cell_type": "code",
   "execution_count": 2,
   "id": "2470d4b5",
   "metadata": {},
   "outputs": [
    {
     "data": {
      "text/plain": [
       "(9134, 24)"
      ]
     },
     "metadata": {},
     "output_type": "display_data"
    },
    {
     "data": {
      "text/html": [
       "<div>\n",
       "<style scoped>\n",
       "    .dataframe tbody tr th:only-of-type {\n",
       "        vertical-align: middle;\n",
       "    }\n",
       "\n",
       "    .dataframe tbody tr th {\n",
       "        vertical-align: top;\n",
       "    }\n",
       "\n",
       "    .dataframe thead th {\n",
       "        text-align: right;\n",
       "    }\n",
       "</style>\n",
       "<table border=\"1\" class=\"dataframe\">\n",
       "  <thead>\n",
       "    <tr style=\"text-align: right;\">\n",
       "      <th></th>\n",
       "      <th>0</th>\n",
       "      <th>1</th>\n",
       "      <th>2</th>\n",
       "      <th>3</th>\n",
       "      <th>4</th>\n",
       "      <th>5</th>\n",
       "      <th>6</th>\n",
       "      <th>7</th>\n",
       "      <th>8</th>\n",
       "      <th>9</th>\n",
       "      <th>...</th>\n",
       "      <th>9124</th>\n",
       "      <th>9125</th>\n",
       "      <th>9126</th>\n",
       "      <th>9127</th>\n",
       "      <th>9128</th>\n",
       "      <th>9129</th>\n",
       "      <th>9130</th>\n",
       "      <th>9131</th>\n",
       "      <th>9132</th>\n",
       "      <th>9133</th>\n",
       "    </tr>\n",
       "  </thead>\n",
       "  <tbody>\n",
       "    <tr>\n",
       "      <th>Customer</th>\n",
       "      <td>BU79786</td>\n",
       "      <td>QZ44356</td>\n",
       "      <td>AI49188</td>\n",
       "      <td>WW63253</td>\n",
       "      <td>HB64268</td>\n",
       "      <td>OC83172</td>\n",
       "      <td>XZ87318</td>\n",
       "      <td>CF85061</td>\n",
       "      <td>DY87989</td>\n",
       "      <td>BQ94931</td>\n",
       "      <td>...</td>\n",
       "      <td>CB59349</td>\n",
       "      <td>RX91025</td>\n",
       "      <td>AC13887</td>\n",
       "      <td>TF56202</td>\n",
       "      <td>YM19146</td>\n",
       "      <td>LA72316</td>\n",
       "      <td>PK87824</td>\n",
       "      <td>TD14365</td>\n",
       "      <td>UP19263</td>\n",
       "      <td>Y167826</td>\n",
       "    </tr>\n",
       "    <tr>\n",
       "      <th>State</th>\n",
       "      <td>Washington</td>\n",
       "      <td>Arizona</td>\n",
       "      <td>Nevada</td>\n",
       "      <td>California</td>\n",
       "      <td>Washington</td>\n",
       "      <td>Oregon</td>\n",
       "      <td>Oregon</td>\n",
       "      <td>Arizona</td>\n",
       "      <td>Oregon</td>\n",
       "      <td>Oregon</td>\n",
       "      <td>...</td>\n",
       "      <td>California</td>\n",
       "      <td>California</td>\n",
       "      <td>California</td>\n",
       "      <td>California</td>\n",
       "      <td>California</td>\n",
       "      <td>California</td>\n",
       "      <td>California</td>\n",
       "      <td>California</td>\n",
       "      <td>California</td>\n",
       "      <td>California</td>\n",
       "    </tr>\n",
       "    <tr>\n",
       "      <th>Customer Lifetime Value</th>\n",
       "      <td>2763.519279</td>\n",
       "      <td>6979.535903</td>\n",
       "      <td>12887.43165</td>\n",
       "      <td>7645.861827</td>\n",
       "      <td>2813.692575</td>\n",
       "      <td>8256.2978</td>\n",
       "      <td>5380.898636</td>\n",
       "      <td>7216.100311</td>\n",
       "      <td>24127.50402</td>\n",
       "      <td>7388.178085</td>\n",
       "      <td>...</td>\n",
       "      <td>16261.5855</td>\n",
       "      <td>19872.262</td>\n",
       "      <td>4628.995325</td>\n",
       "      <td>5032.165498</td>\n",
       "      <td>4100.398533</td>\n",
       "      <td>23405.98798</td>\n",
       "      <td>3096.511217</td>\n",
       "      <td>8163.890428</td>\n",
       "      <td>7524.442436</td>\n",
       "      <td>2611.836866</td>\n",
       "    </tr>\n",
       "    <tr>\n",
       "      <th>Response</th>\n",
       "      <td>No</td>\n",
       "      <td>No</td>\n",
       "      <td>No</td>\n",
       "      <td>No</td>\n",
       "      <td>No</td>\n",
       "      <td>Yes</td>\n",
       "      <td>Yes</td>\n",
       "      <td>No</td>\n",
       "      <td>Yes</td>\n",
       "      <td>No</td>\n",
       "      <td>...</td>\n",
       "      <td>No</td>\n",
       "      <td>No</td>\n",
       "      <td>No</td>\n",
       "      <td>No</td>\n",
       "      <td>No</td>\n",
       "      <td>No</td>\n",
       "      <td>Yes</td>\n",
       "      <td>No</td>\n",
       "      <td>No</td>\n",
       "      <td>No</td>\n",
       "    </tr>\n",
       "    <tr>\n",
       "      <th>Coverage</th>\n",
       "      <td>Basic</td>\n",
       "      <td>Extended</td>\n",
       "      <td>Premium</td>\n",
       "      <td>Basic</td>\n",
       "      <td>Basic</td>\n",
       "      <td>Basic</td>\n",
       "      <td>Basic</td>\n",
       "      <td>Premium</td>\n",
       "      <td>Basic</td>\n",
       "      <td>Extended</td>\n",
       "      <td>...</td>\n",
       "      <td>Extended</td>\n",
       "      <td>Premium</td>\n",
       "      <td>Basic</td>\n",
       "      <td>Basic</td>\n",
       "      <td>Premium</td>\n",
       "      <td>Basic</td>\n",
       "      <td>Extended</td>\n",
       "      <td>Extended</td>\n",
       "      <td>Extended</td>\n",
       "      <td>Extended</td>\n",
       "    </tr>\n",
       "    <tr>\n",
       "      <th>Education</th>\n",
       "      <td>Bachelor</td>\n",
       "      <td>Bachelor</td>\n",
       "      <td>Bachelor</td>\n",
       "      <td>Bachelor</td>\n",
       "      <td>Bachelor</td>\n",
       "      <td>Bachelor</td>\n",
       "      <td>College</td>\n",
       "      <td>Master</td>\n",
       "      <td>Bachelor</td>\n",
       "      <td>College</td>\n",
       "      <td>...</td>\n",
       "      <td>Master</td>\n",
       "      <td>High School or Below</td>\n",
       "      <td>Bachelor</td>\n",
       "      <td>College</td>\n",
       "      <td>College</td>\n",
       "      <td>Bachelor</td>\n",
       "      <td>College</td>\n",
       "      <td>Bachelor</td>\n",
       "      <td>College</td>\n",
       "      <td>College</td>\n",
       "    </tr>\n",
       "    <tr>\n",
       "      <th>Effective To Date</th>\n",
       "      <td>2/24/11</td>\n",
       "      <td>1/31/11</td>\n",
       "      <td>2/19/11</td>\n",
       "      <td>1/20/11</td>\n",
       "      <td>2/3/11</td>\n",
       "      <td>1/25/11</td>\n",
       "      <td>2/24/11</td>\n",
       "      <td>1/18/11</td>\n",
       "      <td>1/26/11</td>\n",
       "      <td>2/17/11</td>\n",
       "      <td>...</td>\n",
       "      <td>1/20/11</td>\n",
       "      <td>1/31/11</td>\n",
       "      <td>1/9/11</td>\n",
       "      <td>2/12/11</td>\n",
       "      <td>1/6/11</td>\n",
       "      <td>2/10/11</td>\n",
       "      <td>2/12/11</td>\n",
       "      <td>2/6/11</td>\n",
       "      <td>2/3/11</td>\n",
       "      <td>2/14/11</td>\n",
       "    </tr>\n",
       "    <tr>\n",
       "      <th>EmploymentStatus</th>\n",
       "      <td>Employed</td>\n",
       "      <td>Unemployed</td>\n",
       "      <td>Employed</td>\n",
       "      <td>Unemployed</td>\n",
       "      <td>Employed</td>\n",
       "      <td>Employed</td>\n",
       "      <td>Employed</td>\n",
       "      <td>Unemployed</td>\n",
       "      <td>Medical Leave</td>\n",
       "      <td>Employed</td>\n",
       "      <td>...</td>\n",
       "      <td>Employed</td>\n",
       "      <td>Unemployed</td>\n",
       "      <td>Unemployed</td>\n",
       "      <td>Employed</td>\n",
       "      <td>Employed</td>\n",
       "      <td>Employed</td>\n",
       "      <td>Employed</td>\n",
       "      <td>Unemployed</td>\n",
       "      <td>Employed</td>\n",
       "      <td>Unemployed</td>\n",
       "    </tr>\n",
       "    <tr>\n",
       "      <th>Gender</th>\n",
       "      <td>F</td>\n",
       "      <td>F</td>\n",
       "      <td>F</td>\n",
       "      <td>M</td>\n",
       "      <td>M</td>\n",
       "      <td>F</td>\n",
       "      <td>F</td>\n",
       "      <td>M</td>\n",
       "      <td>M</td>\n",
       "      <td>F</td>\n",
       "      <td>...</td>\n",
       "      <td>M</td>\n",
       "      <td>M</td>\n",
       "      <td>M</td>\n",
       "      <td>M</td>\n",
       "      <td>F</td>\n",
       "      <td>M</td>\n",
       "      <td>F</td>\n",
       "      <td>M</td>\n",
       "      <td>M</td>\n",
       "      <td>M</td>\n",
       "    </tr>\n",
       "    <tr>\n",
       "      <th>Income</th>\n",
       "      <td>56274</td>\n",
       "      <td>0</td>\n",
       "      <td>48767</td>\n",
       "      <td>0</td>\n",
       "      <td>43836</td>\n",
       "      <td>62902</td>\n",
       "      <td>55350</td>\n",
       "      <td>0</td>\n",
       "      <td>14072</td>\n",
       "      <td>28812</td>\n",
       "      <td>...</td>\n",
       "      <td>60646</td>\n",
       "      <td>0</td>\n",
       "      <td>0</td>\n",
       "      <td>66367</td>\n",
       "      <td>47761</td>\n",
       "      <td>71941</td>\n",
       "      <td>21604</td>\n",
       "      <td>0</td>\n",
       "      <td>21941</td>\n",
       "      <td>0</td>\n",
       "    </tr>\n",
       "    <tr>\n",
       "      <th>Location Code</th>\n",
       "      <td>Suburban</td>\n",
       "      <td>Suburban</td>\n",
       "      <td>Suburban</td>\n",
       "      <td>Suburban</td>\n",
       "      <td>Rural</td>\n",
       "      <td>Rural</td>\n",
       "      <td>Suburban</td>\n",
       "      <td>Urban</td>\n",
       "      <td>Suburban</td>\n",
       "      <td>Urban</td>\n",
       "      <td>...</td>\n",
       "      <td>Suburban</td>\n",
       "      <td>Suburban</td>\n",
       "      <td>Suburban</td>\n",
       "      <td>Suburban</td>\n",
       "      <td>Suburban</td>\n",
       "      <td>Urban</td>\n",
       "      <td>Suburban</td>\n",
       "      <td>Suburban</td>\n",
       "      <td>Suburban</td>\n",
       "      <td>Suburban</td>\n",
       "    </tr>\n",
       "    <tr>\n",
       "      <th>Marital Status</th>\n",
       "      <td>Married</td>\n",
       "      <td>Single</td>\n",
       "      <td>Married</td>\n",
       "      <td>Married</td>\n",
       "      <td>Single</td>\n",
       "      <td>Married</td>\n",
       "      <td>Married</td>\n",
       "      <td>Single</td>\n",
       "      <td>Divorced</td>\n",
       "      <td>Married</td>\n",
       "      <td>...</td>\n",
       "      <td>Married</td>\n",
       "      <td>Single</td>\n",
       "      <td>Single</td>\n",
       "      <td>Divorced</td>\n",
       "      <td>Single</td>\n",
       "      <td>Married</td>\n",
       "      <td>Divorced</td>\n",
       "      <td>Single</td>\n",
       "      <td>Married</td>\n",
       "      <td>Single</td>\n",
       "    </tr>\n",
       "    <tr>\n",
       "      <th>Monthly Premium Auto</th>\n",
       "      <td>69</td>\n",
       "      <td>94</td>\n",
       "      <td>108</td>\n",
       "      <td>106</td>\n",
       "      <td>73</td>\n",
       "      <td>69</td>\n",
       "      <td>67</td>\n",
       "      <td>101</td>\n",
       "      <td>71</td>\n",
       "      <td>93</td>\n",
       "      <td>...</td>\n",
       "      <td>134</td>\n",
       "      <td>185</td>\n",
       "      <td>67</td>\n",
       "      <td>64</td>\n",
       "      <td>104</td>\n",
       "      <td>73</td>\n",
       "      <td>79</td>\n",
       "      <td>85</td>\n",
       "      <td>96</td>\n",
       "      <td>77</td>\n",
       "    </tr>\n",
       "    <tr>\n",
       "      <th>Months Since Last Claim</th>\n",
       "      <td>32</td>\n",
       "      <td>13</td>\n",
       "      <td>18</td>\n",
       "      <td>18</td>\n",
       "      <td>12</td>\n",
       "      <td>14</td>\n",
       "      <td>0</td>\n",
       "      <td>0</td>\n",
       "      <td>13</td>\n",
       "      <td>17</td>\n",
       "      <td>...</td>\n",
       "      <td>31</td>\n",
       "      <td>26</td>\n",
       "      <td>25</td>\n",
       "      <td>6</td>\n",
       "      <td>16</td>\n",
       "      <td>18</td>\n",
       "      <td>14</td>\n",
       "      <td>9</td>\n",
       "      <td>34</td>\n",
       "      <td>3</td>\n",
       "    </tr>\n",
       "    <tr>\n",
       "      <th>Months Since Policy Inception</th>\n",
       "      <td>5</td>\n",
       "      <td>42</td>\n",
       "      <td>38</td>\n",
       "      <td>65</td>\n",
       "      <td>44</td>\n",
       "      <td>94</td>\n",
       "      <td>13</td>\n",
       "      <td>68</td>\n",
       "      <td>3</td>\n",
       "      <td>7</td>\n",
       "      <td>...</td>\n",
       "      <td>42</td>\n",
       "      <td>35</td>\n",
       "      <td>21</td>\n",
       "      <td>48</td>\n",
       "      <td>58</td>\n",
       "      <td>89</td>\n",
       "      <td>28</td>\n",
       "      <td>37</td>\n",
       "      <td>3</td>\n",
       "      <td>90</td>\n",
       "    </tr>\n",
       "    <tr>\n",
       "      <th>Number of Open Complaints</th>\n",
       "      <td>0</td>\n",
       "      <td>0</td>\n",
       "      <td>0</td>\n",
       "      <td>0</td>\n",
       "      <td>0</td>\n",
       "      <td>0</td>\n",
       "      <td>0</td>\n",
       "      <td>0</td>\n",
       "      <td>0</td>\n",
       "      <td>0</td>\n",
       "      <td>...</td>\n",
       "      <td>0</td>\n",
       "      <td>0</td>\n",
       "      <td>0</td>\n",
       "      <td>0</td>\n",
       "      <td>0</td>\n",
       "      <td>0</td>\n",
       "      <td>0</td>\n",
       "      <td>3</td>\n",
       "      <td>0</td>\n",
       "      <td>0</td>\n",
       "    </tr>\n",
       "    <tr>\n",
       "      <th>Number of Policies</th>\n",
       "      <td>1</td>\n",
       "      <td>8</td>\n",
       "      <td>2</td>\n",
       "      <td>7</td>\n",
       "      <td>1</td>\n",
       "      <td>2</td>\n",
       "      <td>9</td>\n",
       "      <td>4</td>\n",
       "      <td>2</td>\n",
       "      <td>8</td>\n",
       "      <td>...</td>\n",
       "      <td>2</td>\n",
       "      <td>2</td>\n",
       "      <td>4</td>\n",
       "      <td>3</td>\n",
       "      <td>1</td>\n",
       "      <td>2</td>\n",
       "      <td>1</td>\n",
       "      <td>2</td>\n",
       "      <td>3</td>\n",
       "      <td>1</td>\n",
       "    </tr>\n",
       "    <tr>\n",
       "      <th>Policy Type</th>\n",
       "      <td>Corporate Auto</td>\n",
       "      <td>Personal Auto</td>\n",
       "      <td>Personal Auto</td>\n",
       "      <td>Corporate Auto</td>\n",
       "      <td>Personal Auto</td>\n",
       "      <td>Personal Auto</td>\n",
       "      <td>Corporate Auto</td>\n",
       "      <td>Corporate Auto</td>\n",
       "      <td>Corporate Auto</td>\n",
       "      <td>Special Auto</td>\n",
       "      <td>...</td>\n",
       "      <td>Personal Auto</td>\n",
       "      <td>Personal Auto</td>\n",
       "      <td>Corporate Auto</td>\n",
       "      <td>Personal Auto</td>\n",
       "      <td>Personal Auto</td>\n",
       "      <td>Personal Auto</td>\n",
       "      <td>Corporate Auto</td>\n",
       "      <td>Corporate Auto</td>\n",
       "      <td>Personal Auto</td>\n",
       "      <td>Corporate Auto</td>\n",
       "    </tr>\n",
       "    <tr>\n",
       "      <th>Policy</th>\n",
       "      <td>Corporate L3</td>\n",
       "      <td>Personal L3</td>\n",
       "      <td>Personal L3</td>\n",
       "      <td>Corporate L2</td>\n",
       "      <td>Personal L1</td>\n",
       "      <td>Personal L3</td>\n",
       "      <td>Corporate L3</td>\n",
       "      <td>Corporate L3</td>\n",
       "      <td>Corporate L3</td>\n",
       "      <td>Special L2</td>\n",
       "      <td>...</td>\n",
       "      <td>Personal L3</td>\n",
       "      <td>Personal L3</td>\n",
       "      <td>Corporate L1</td>\n",
       "      <td>Personal L3</td>\n",
       "      <td>Personal L2</td>\n",
       "      <td>Personal L1</td>\n",
       "      <td>Corporate L3</td>\n",
       "      <td>Corporate L2</td>\n",
       "      <td>Personal L2</td>\n",
       "      <td>Corporate L3</td>\n",
       "    </tr>\n",
       "    <tr>\n",
       "      <th>Renew Offer Type</th>\n",
       "      <td>Offer1</td>\n",
       "      <td>Offer3</td>\n",
       "      <td>Offer1</td>\n",
       "      <td>Offer1</td>\n",
       "      <td>Offer1</td>\n",
       "      <td>Offer2</td>\n",
       "      <td>Offer1</td>\n",
       "      <td>Offer1</td>\n",
       "      <td>Offer1</td>\n",
       "      <td>Offer2</td>\n",
       "      <td>...</td>\n",
       "      <td>Offer2</td>\n",
       "      <td>Offer1</td>\n",
       "      <td>Offer1</td>\n",
       "      <td>Offer2</td>\n",
       "      <td>Offer1</td>\n",
       "      <td>Offer2</td>\n",
       "      <td>Offer1</td>\n",
       "      <td>Offer1</td>\n",
       "      <td>Offer3</td>\n",
       "      <td>Offer4</td>\n",
       "    </tr>\n",
       "    <tr>\n",
       "      <th>Sales Channel</th>\n",
       "      <td>Agent</td>\n",
       "      <td>Agent</td>\n",
       "      <td>Agent</td>\n",
       "      <td>Call Center</td>\n",
       "      <td>Agent</td>\n",
       "      <td>Web</td>\n",
       "      <td>Agent</td>\n",
       "      <td>Agent</td>\n",
       "      <td>Agent</td>\n",
       "      <td>Branch</td>\n",
       "      <td>...</td>\n",
       "      <td>Agent</td>\n",
       "      <td>Agent</td>\n",
       "      <td>Branch</td>\n",
       "      <td>Call Center</td>\n",
       "      <td>Branch</td>\n",
       "      <td>Web</td>\n",
       "      <td>Branch</td>\n",
       "      <td>Branch</td>\n",
       "      <td>Branch</td>\n",
       "      <td>Call Center</td>\n",
       "    </tr>\n",
       "    <tr>\n",
       "      <th>Total Claim Amount</th>\n",
       "      <td>384.811147</td>\n",
       "      <td>1131.464935</td>\n",
       "      <td>566.472247</td>\n",
       "      <td>529.881344</td>\n",
       "      <td>138.130879</td>\n",
       "      <td>159.383042</td>\n",
       "      <td>321.6</td>\n",
       "      <td>363.02968</td>\n",
       "      <td>511.2</td>\n",
       "      <td>425.527834</td>\n",
       "      <td>...</td>\n",
       "      <td>643.2</td>\n",
       "      <td>1950.725547</td>\n",
       "      <td>482.4</td>\n",
       "      <td>307.2</td>\n",
       "      <td>541.282007</td>\n",
       "      <td>198.234764</td>\n",
       "      <td>379.2</td>\n",
       "      <td>790.784983</td>\n",
       "      <td>691.2</td>\n",
       "      <td>369.6</td>\n",
       "    </tr>\n",
       "    <tr>\n",
       "      <th>Vehicle Class</th>\n",
       "      <td>Two-Door Car</td>\n",
       "      <td>Four-Door Car</td>\n",
       "      <td>Two-Door Car</td>\n",
       "      <td>SUV</td>\n",
       "      <td>Four-Door Car</td>\n",
       "      <td>Two-Door Car</td>\n",
       "      <td>Four-Door Car</td>\n",
       "      <td>Four-Door Car</td>\n",
       "      <td>Four-Door Car</td>\n",
       "      <td>Four-Door Car</td>\n",
       "      <td>...</td>\n",
       "      <td>SUV</td>\n",
       "      <td>SUV</td>\n",
       "      <td>Two-Door Car</td>\n",
       "      <td>Two-Door Car</td>\n",
       "      <td>Four-Door Car</td>\n",
       "      <td>Four-Door Car</td>\n",
       "      <td>Four-Door Car</td>\n",
       "      <td>Four-Door Car</td>\n",
       "      <td>Four-Door Car</td>\n",
       "      <td>Two-Door Car</td>\n",
       "    </tr>\n",
       "    <tr>\n",
       "      <th>Vehicle Size</th>\n",
       "      <td>Medsize</td>\n",
       "      <td>Medsize</td>\n",
       "      <td>Medsize</td>\n",
       "      <td>Medsize</td>\n",
       "      <td>Medsize</td>\n",
       "      <td>Medsize</td>\n",
       "      <td>Medsize</td>\n",
       "      <td>Medsize</td>\n",
       "      <td>Medsize</td>\n",
       "      <td>Medsize</td>\n",
       "      <td>...</td>\n",
       "      <td>Medsize</td>\n",
       "      <td>Small</td>\n",
       "      <td>Medsize</td>\n",
       "      <td>Small</td>\n",
       "      <td>Large</td>\n",
       "      <td>Medsize</td>\n",
       "      <td>Medsize</td>\n",
       "      <td>Medsize</td>\n",
       "      <td>Large</td>\n",
       "      <td>Medsize</td>\n",
       "    </tr>\n",
       "  </tbody>\n",
       "</table>\n",
       "<p>24 rows × 9134 columns</p>\n",
       "</div>"
      ],
      "text/plain": [
       "                                         0              1              2     \\\n",
       "Customer                              BU79786        QZ44356        AI49188   \n",
       "State                              Washington        Arizona         Nevada   \n",
       "Customer Lifetime Value           2763.519279    6979.535903    12887.43165   \n",
       "Response                                   No             No             No   \n",
       "Coverage                                Basic       Extended        Premium   \n",
       "Education                            Bachelor       Bachelor       Bachelor   \n",
       "Effective To Date                     2/24/11        1/31/11        2/19/11   \n",
       "EmploymentStatus                     Employed     Unemployed       Employed   \n",
       "Gender                                      F              F              F   \n",
       "Income                                  56274              0          48767   \n",
       "Location Code                        Suburban       Suburban       Suburban   \n",
       "Marital Status                        Married         Single        Married   \n",
       "Monthly Premium Auto                       69             94            108   \n",
       "Months Since Last Claim                    32             13             18   \n",
       "Months Since Policy Inception               5             42             38   \n",
       "Number of Open Complaints                   0              0              0   \n",
       "Number of Policies                          1              8              2   \n",
       "Policy Type                    Corporate Auto  Personal Auto  Personal Auto   \n",
       "Policy                           Corporate L3    Personal L3    Personal L3   \n",
       "Renew Offer Type                       Offer1         Offer3         Offer1   \n",
       "Sales Channel                           Agent          Agent          Agent   \n",
       "Total Claim Amount                 384.811147    1131.464935     566.472247   \n",
       "Vehicle Class                    Two-Door Car  Four-Door Car   Two-Door Car   \n",
       "Vehicle Size                          Medsize        Medsize        Medsize   \n",
       "\n",
       "                                         3              4              5     \\\n",
       "Customer                              WW63253        HB64268        OC83172   \n",
       "State                              California     Washington         Oregon   \n",
       "Customer Lifetime Value           7645.861827    2813.692575      8256.2978   \n",
       "Response                                   No             No            Yes   \n",
       "Coverage                                Basic          Basic          Basic   \n",
       "Education                            Bachelor       Bachelor       Bachelor   \n",
       "Effective To Date                     1/20/11         2/3/11        1/25/11   \n",
       "EmploymentStatus                   Unemployed       Employed       Employed   \n",
       "Gender                                      M              M              F   \n",
       "Income                                      0          43836          62902   \n",
       "Location Code                        Suburban          Rural          Rural   \n",
       "Marital Status                        Married         Single        Married   \n",
       "Monthly Premium Auto                      106             73             69   \n",
       "Months Since Last Claim                    18             12             14   \n",
       "Months Since Policy Inception              65             44             94   \n",
       "Number of Open Complaints                   0              0              0   \n",
       "Number of Policies                          7              1              2   \n",
       "Policy Type                    Corporate Auto  Personal Auto  Personal Auto   \n",
       "Policy                           Corporate L2    Personal L1    Personal L3   \n",
       "Renew Offer Type                       Offer1         Offer1         Offer2   \n",
       "Sales Channel                     Call Center          Agent            Web   \n",
       "Total Claim Amount                 529.881344     138.130879     159.383042   \n",
       "Vehicle Class                             SUV  Four-Door Car   Two-Door Car   \n",
       "Vehicle Size                          Medsize        Medsize        Medsize   \n",
       "\n",
       "                                         6               7               8     \\\n",
       "Customer                              XZ87318         CF85061         DY87989   \n",
       "State                                  Oregon         Arizona          Oregon   \n",
       "Customer Lifetime Value           5380.898636     7216.100311     24127.50402   \n",
       "Response                                  Yes              No             Yes   \n",
       "Coverage                                Basic         Premium           Basic   \n",
       "Education                             College          Master        Bachelor   \n",
       "Effective To Date                     2/24/11         1/18/11         1/26/11   \n",
       "EmploymentStatus                     Employed      Unemployed   Medical Leave   \n",
       "Gender                                      F               M               M   \n",
       "Income                                  55350               0           14072   \n",
       "Location Code                        Suburban           Urban        Suburban   \n",
       "Marital Status                        Married          Single        Divorced   \n",
       "Monthly Premium Auto                       67             101              71   \n",
       "Months Since Last Claim                     0               0              13   \n",
       "Months Since Policy Inception              13              68               3   \n",
       "Number of Open Complaints                   0               0               0   \n",
       "Number of Policies                          9               4               2   \n",
       "Policy Type                    Corporate Auto  Corporate Auto  Corporate Auto   \n",
       "Policy                           Corporate L3    Corporate L3    Corporate L3   \n",
       "Renew Offer Type                       Offer1          Offer1          Offer1   \n",
       "Sales Channel                           Agent           Agent           Agent   \n",
       "Total Claim Amount                      321.6       363.02968           511.2   \n",
       "Vehicle Class                   Four-Door Car   Four-Door Car   Four-Door Car   \n",
       "Vehicle Size                          Medsize         Medsize         Medsize   \n",
       "\n",
       "                                        9     ...           9124  \\\n",
       "Customer                             BQ94931  ...        CB59349   \n",
       "State                                 Oregon  ...     California   \n",
       "Customer Lifetime Value          7388.178085  ...     16261.5855   \n",
       "Response                                  No  ...             No   \n",
       "Coverage                            Extended  ...       Extended   \n",
       "Education                            College  ...         Master   \n",
       "Effective To Date                    2/17/11  ...        1/20/11   \n",
       "EmploymentStatus                    Employed  ...       Employed   \n",
       "Gender                                     F  ...              M   \n",
       "Income                                 28812  ...          60646   \n",
       "Location Code                          Urban  ...       Suburban   \n",
       "Marital Status                       Married  ...        Married   \n",
       "Monthly Premium Auto                      93  ...            134   \n",
       "Months Since Last Claim                   17  ...             31   \n",
       "Months Since Policy Inception              7  ...             42   \n",
       "Number of Open Complaints                  0  ...              0   \n",
       "Number of Policies                         8  ...              2   \n",
       "Policy Type                     Special Auto  ...  Personal Auto   \n",
       "Policy                            Special L2  ...    Personal L3   \n",
       "Renew Offer Type                      Offer2  ...         Offer2   \n",
       "Sales Channel                         Branch  ...          Agent   \n",
       "Total Claim Amount                425.527834  ...          643.2   \n",
       "Vehicle Class                  Four-Door Car  ...            SUV   \n",
       "Vehicle Size                         Medsize  ...        Medsize   \n",
       "\n",
       "                                               9125            9126  \\\n",
       "Customer                                    RX91025         AC13887   \n",
       "State                                    California      California   \n",
       "Customer Lifetime Value                   19872.262     4628.995325   \n",
       "Response                                         No              No   \n",
       "Coverage                                    Premium           Basic   \n",
       "Education                      High School or Below        Bachelor   \n",
       "Effective To Date                           1/31/11          1/9/11   \n",
       "EmploymentStatus                         Unemployed      Unemployed   \n",
       "Gender                                            M               M   \n",
       "Income                                            0               0   \n",
       "Location Code                              Suburban        Suburban   \n",
       "Marital Status                               Single          Single   \n",
       "Monthly Premium Auto                            185              67   \n",
       "Months Since Last Claim                          26              25   \n",
       "Months Since Policy Inception                    35              21   \n",
       "Number of Open Complaints                         0               0   \n",
       "Number of Policies                                2               4   \n",
       "Policy Type                           Personal Auto  Corporate Auto   \n",
       "Policy                                  Personal L3    Corporate L1   \n",
       "Renew Offer Type                             Offer1          Offer1   \n",
       "Sales Channel                                 Agent          Branch   \n",
       "Total Claim Amount                      1950.725547           482.4   \n",
       "Vehicle Class                                   SUV    Two-Door Car   \n",
       "Vehicle Size                                  Small         Medsize   \n",
       "\n",
       "                                        9127           9128           9129  \\\n",
       "Customer                             TF56202        YM19146        LA72316   \n",
       "State                             California     California     California   \n",
       "Customer Lifetime Value          5032.165498    4100.398533    23405.98798   \n",
       "Response                                  No             No             No   \n",
       "Coverage                               Basic        Premium          Basic   \n",
       "Education                            College        College       Bachelor   \n",
       "Effective To Date                    2/12/11         1/6/11        2/10/11   \n",
       "EmploymentStatus                    Employed       Employed       Employed   \n",
       "Gender                                     M              F              M   \n",
       "Income                                 66367          47761          71941   \n",
       "Location Code                       Suburban       Suburban          Urban   \n",
       "Marital Status                      Divorced         Single        Married   \n",
       "Monthly Premium Auto                      64            104             73   \n",
       "Months Since Last Claim                    6             16             18   \n",
       "Months Since Policy Inception             48             58             89   \n",
       "Number of Open Complaints                  0              0              0   \n",
       "Number of Policies                         3              1              2   \n",
       "Policy Type                    Personal Auto  Personal Auto  Personal Auto   \n",
       "Policy                           Personal L3    Personal L2    Personal L1   \n",
       "Renew Offer Type                      Offer2         Offer1         Offer2   \n",
       "Sales Channel                    Call Center         Branch            Web   \n",
       "Total Claim Amount                     307.2     541.282007     198.234764   \n",
       "Vehicle Class                   Two-Door Car  Four-Door Car  Four-Door Car   \n",
       "Vehicle Size                           Small          Large        Medsize   \n",
       "\n",
       "                                         9130            9131           9132  \\\n",
       "Customer                              PK87824         TD14365        UP19263   \n",
       "State                              California      California     California   \n",
       "Customer Lifetime Value           3096.511217     8163.890428    7524.442436   \n",
       "Response                                  Yes              No             No   \n",
       "Coverage                             Extended        Extended       Extended   \n",
       "Education                             College        Bachelor        College   \n",
       "Effective To Date                     2/12/11          2/6/11         2/3/11   \n",
       "EmploymentStatus                     Employed      Unemployed       Employed   \n",
       "Gender                                      F               M              M   \n",
       "Income                                  21604               0          21941   \n",
       "Location Code                        Suburban        Suburban       Suburban   \n",
       "Marital Status                       Divorced          Single        Married   \n",
       "Monthly Premium Auto                       79              85             96   \n",
       "Months Since Last Claim                    14               9             34   \n",
       "Months Since Policy Inception              28              37              3   \n",
       "Number of Open Complaints                   0               3              0   \n",
       "Number of Policies                          1               2              3   \n",
       "Policy Type                    Corporate Auto  Corporate Auto  Personal Auto   \n",
       "Policy                           Corporate L3    Corporate L2    Personal L2   \n",
       "Renew Offer Type                       Offer1          Offer1         Offer3   \n",
       "Sales Channel                          Branch          Branch         Branch   \n",
       "Total Claim Amount                      379.2      790.784983          691.2   \n",
       "Vehicle Class                   Four-Door Car   Four-Door Car  Four-Door Car   \n",
       "Vehicle Size                          Medsize         Medsize          Large   \n",
       "\n",
       "                                         9133  \n",
       "Customer                              Y167826  \n",
       "State                              California  \n",
       "Customer Lifetime Value           2611.836866  \n",
       "Response                                   No  \n",
       "Coverage                             Extended  \n",
       "Education                             College  \n",
       "Effective To Date                     2/14/11  \n",
       "EmploymentStatus                   Unemployed  \n",
       "Gender                                      M  \n",
       "Income                                      0  \n",
       "Location Code                        Suburban  \n",
       "Marital Status                         Single  \n",
       "Monthly Premium Auto                       77  \n",
       "Months Since Last Claim                     3  \n",
       "Months Since Policy Inception              90  \n",
       "Number of Open Complaints                   0  \n",
       "Number of Policies                          1  \n",
       "Policy Type                    Corporate Auto  \n",
       "Policy                           Corporate L3  \n",
       "Renew Offer Type                       Offer4  \n",
       "Sales Channel                     Call Center  \n",
       "Total Claim Amount                      369.6  \n",
       "Vehicle Class                    Two-Door Car  \n",
       "Vehicle Size                          Medsize  \n",
       "\n",
       "[24 rows x 9134 columns]"
      ]
     },
     "execution_count": 2,
     "metadata": {},
     "output_type": "execute_result"
    }
   ],
   "source": [
    "#customer_df = pd.read_csv('.\\\\files_for_lab\\\\we_fn_use_c_marketing_customer_value_analysis.csv')\n",
    "customer_df = pd.read_csv('\\\\Users\\\\satur\\\\IH-Labs\\\\lab-cleaning-categorical-data\\\\files_for_lab\\\\we_fn_use_c_marketing_customer_value_analysis.csv')\n",
    "display(customer_df.shape)\n",
    "customer_df.head()\n",
    "\n",
    "customer_df.T"
   ]
  },
  {
   "cell_type": "code",
   "execution_count": null,
   "id": "8e1d86f1",
   "metadata": {},
   "outputs": [],
   "source": []
  },
  {
   "cell_type": "code",
   "execution_count": 3,
   "id": "2f69c1ba",
   "metadata": {},
   "outputs": [
    {
     "data": {
      "text/html": [
       "<div>\n",
       "<style scoped>\n",
       "    .dataframe tbody tr th:only-of-type {\n",
       "        vertical-align: middle;\n",
       "    }\n",
       "\n",
       "    .dataframe tbody tr th {\n",
       "        vertical-align: top;\n",
       "    }\n",
       "\n",
       "    .dataframe thead th {\n",
       "        text-align: right;\n",
       "    }\n",
       "</style>\n",
       "<table border=\"1\" class=\"dataframe\">\n",
       "  <thead>\n",
       "    <tr style=\"text-align: right;\">\n",
       "      <th></th>\n",
       "      <th>0</th>\n",
       "      <th>1</th>\n",
       "      <th>2</th>\n",
       "      <th>3</th>\n",
       "      <th>4</th>\n",
       "    </tr>\n",
       "  </thead>\n",
       "  <tbody>\n",
       "    <tr>\n",
       "      <th>Customer</th>\n",
       "      <td>BU79786</td>\n",
       "      <td>QZ44356</td>\n",
       "      <td>AI49188</td>\n",
       "      <td>WW63253</td>\n",
       "      <td>HB64268</td>\n",
       "    </tr>\n",
       "    <tr>\n",
       "      <th>State</th>\n",
       "      <td>Washington</td>\n",
       "      <td>Arizona</td>\n",
       "      <td>Nevada</td>\n",
       "      <td>California</td>\n",
       "      <td>Washington</td>\n",
       "    </tr>\n",
       "    <tr>\n",
       "      <th>Response</th>\n",
       "      <td>No</td>\n",
       "      <td>No</td>\n",
       "      <td>No</td>\n",
       "      <td>No</td>\n",
       "      <td>No</td>\n",
       "    </tr>\n",
       "    <tr>\n",
       "      <th>Coverage</th>\n",
       "      <td>Basic</td>\n",
       "      <td>Extended</td>\n",
       "      <td>Premium</td>\n",
       "      <td>Basic</td>\n",
       "      <td>Basic</td>\n",
       "    </tr>\n",
       "    <tr>\n",
       "      <th>Education</th>\n",
       "      <td>Bachelor</td>\n",
       "      <td>Bachelor</td>\n",
       "      <td>Bachelor</td>\n",
       "      <td>Bachelor</td>\n",
       "      <td>Bachelor</td>\n",
       "    </tr>\n",
       "    <tr>\n",
       "      <th>Effective To Date</th>\n",
       "      <td>2/24/11</td>\n",
       "      <td>1/31/11</td>\n",
       "      <td>2/19/11</td>\n",
       "      <td>1/20/11</td>\n",
       "      <td>2/3/11</td>\n",
       "    </tr>\n",
       "    <tr>\n",
       "      <th>EmploymentStatus</th>\n",
       "      <td>Employed</td>\n",
       "      <td>Unemployed</td>\n",
       "      <td>Employed</td>\n",
       "      <td>Unemployed</td>\n",
       "      <td>Employed</td>\n",
       "    </tr>\n",
       "    <tr>\n",
       "      <th>Gender</th>\n",
       "      <td>F</td>\n",
       "      <td>F</td>\n",
       "      <td>F</td>\n",
       "      <td>M</td>\n",
       "      <td>M</td>\n",
       "    </tr>\n",
       "    <tr>\n",
       "      <th>Location Code</th>\n",
       "      <td>Suburban</td>\n",
       "      <td>Suburban</td>\n",
       "      <td>Suburban</td>\n",
       "      <td>Suburban</td>\n",
       "      <td>Rural</td>\n",
       "    </tr>\n",
       "    <tr>\n",
       "      <th>Marital Status</th>\n",
       "      <td>Married</td>\n",
       "      <td>Single</td>\n",
       "      <td>Married</td>\n",
       "      <td>Married</td>\n",
       "      <td>Single</td>\n",
       "    </tr>\n",
       "    <tr>\n",
       "      <th>Policy Type</th>\n",
       "      <td>Corporate Auto</td>\n",
       "      <td>Personal Auto</td>\n",
       "      <td>Personal Auto</td>\n",
       "      <td>Corporate Auto</td>\n",
       "      <td>Personal Auto</td>\n",
       "    </tr>\n",
       "    <tr>\n",
       "      <th>Policy</th>\n",
       "      <td>Corporate L3</td>\n",
       "      <td>Personal L3</td>\n",
       "      <td>Personal L3</td>\n",
       "      <td>Corporate L2</td>\n",
       "      <td>Personal L1</td>\n",
       "    </tr>\n",
       "    <tr>\n",
       "      <th>Renew Offer Type</th>\n",
       "      <td>Offer1</td>\n",
       "      <td>Offer3</td>\n",
       "      <td>Offer1</td>\n",
       "      <td>Offer1</td>\n",
       "      <td>Offer1</td>\n",
       "    </tr>\n",
       "    <tr>\n",
       "      <th>Sales Channel</th>\n",
       "      <td>Agent</td>\n",
       "      <td>Agent</td>\n",
       "      <td>Agent</td>\n",
       "      <td>Call Center</td>\n",
       "      <td>Agent</td>\n",
       "    </tr>\n",
       "    <tr>\n",
       "      <th>Vehicle Class</th>\n",
       "      <td>Two-Door Car</td>\n",
       "      <td>Four-Door Car</td>\n",
       "      <td>Two-Door Car</td>\n",
       "      <td>SUV</td>\n",
       "      <td>Four-Door Car</td>\n",
       "    </tr>\n",
       "    <tr>\n",
       "      <th>Vehicle Size</th>\n",
       "      <td>Medsize</td>\n",
       "      <td>Medsize</td>\n",
       "      <td>Medsize</td>\n",
       "      <td>Medsize</td>\n",
       "      <td>Medsize</td>\n",
       "    </tr>\n",
       "  </tbody>\n",
       "</table>\n",
       "</div>"
      ],
      "text/plain": [
       "                                0              1              2  \\\n",
       "Customer                  BU79786        QZ44356        AI49188   \n",
       "State                  Washington        Arizona         Nevada   \n",
       "Response                       No             No             No   \n",
       "Coverage                    Basic       Extended        Premium   \n",
       "Education                Bachelor       Bachelor       Bachelor   \n",
       "Effective To Date         2/24/11        1/31/11        2/19/11   \n",
       "EmploymentStatus         Employed     Unemployed       Employed   \n",
       "Gender                          F              F              F   \n",
       "Location Code            Suburban       Suburban       Suburban   \n",
       "Marital Status            Married         Single        Married   \n",
       "Policy Type        Corporate Auto  Personal Auto  Personal Auto   \n",
       "Policy               Corporate L3    Personal L3    Personal L3   \n",
       "Renew Offer Type           Offer1         Offer3         Offer1   \n",
       "Sales Channel               Agent          Agent          Agent   \n",
       "Vehicle Class        Two-Door Car  Four-Door Car   Two-Door Car   \n",
       "Vehicle Size              Medsize        Medsize        Medsize   \n",
       "\n",
       "                                3              4  \n",
       "Customer                  WW63253        HB64268  \n",
       "State                  California     Washington  \n",
       "Response                       No             No  \n",
       "Coverage                    Basic          Basic  \n",
       "Education                Bachelor       Bachelor  \n",
       "Effective To Date         1/20/11         2/3/11  \n",
       "EmploymentStatus       Unemployed       Employed  \n",
       "Gender                          M              M  \n",
       "Location Code            Suburban          Rural  \n",
       "Marital Status            Married         Single  \n",
       "Policy Type        Corporate Auto  Personal Auto  \n",
       "Policy               Corporate L2    Personal L1  \n",
       "Renew Offer Type           Offer1         Offer1  \n",
       "Sales Channel         Call Center          Agent  \n",
       "Vehicle Class                 SUV  Four-Door Car  \n",
       "Vehicle Size              Medsize        Medsize  "
      ]
     },
     "execution_count": 3,
     "metadata": {},
     "output_type": "execute_result"
    }
   ],
   "source": [
    "categoricals = customer_df.select_dtypes(object)\n",
    "categoricals.head().T"
   ]
  },
  {
   "cell_type": "code",
   "execution_count": 4,
   "id": "300651b5",
   "metadata": {},
   "outputs": [
    {
     "data": {
      "text/plain": [
       "Index(['customer', 'state', 'response', 'coverage', 'education',\n",
       "       'effective_to_date', 'employmentstatus', 'gender', 'location_code',\n",
       "       'marital_status', 'policy_type', 'policy', 'renew_offer_type',\n",
       "       'sales_channel', 'vehicle_class', 'vehicle_size'],\n",
       "      dtype='object')"
      ]
     },
     "execution_count": 4,
     "metadata": {},
     "output_type": "execute_result"
    }
   ],
   "source": [
    "categoricals.columns= categoricals.columns.str.lower()\n",
    "categoricals.columns= categoricals.columns.str.replace(' ','_')\n",
    "categoricals.columns"
   ]
  },
  {
   "cell_type": "code",
   "execution_count": 5,
   "id": "164e1d57",
   "metadata": {},
   "outputs": [
    {
     "data": {
      "text/html": [
       "<div>\n",
       "<style scoped>\n",
       "    .dataframe tbody tr th:only-of-type {\n",
       "        vertical-align: middle;\n",
       "    }\n",
       "\n",
       "    .dataframe tbody tr th {\n",
       "        vertical-align: top;\n",
       "    }\n",
       "\n",
       "    .dataframe thead th {\n",
       "        text-align: right;\n",
       "    }\n",
       "</style>\n",
       "<table border=\"1\" class=\"dataframe\">\n",
       "  <thead>\n",
       "    <tr style=\"text-align: right;\">\n",
       "      <th></th>\n",
       "      <th>0</th>\n",
       "      <th>1</th>\n",
       "      <th>2</th>\n",
       "      <th>3</th>\n",
       "      <th>4</th>\n",
       "      <th>5</th>\n",
       "      <th>6</th>\n",
       "      <th>7</th>\n",
       "      <th>8</th>\n",
       "      <th>9</th>\n",
       "      <th>...</th>\n",
       "      <th>9124</th>\n",
       "      <th>9125</th>\n",
       "      <th>9126</th>\n",
       "      <th>9127</th>\n",
       "      <th>9128</th>\n",
       "      <th>9129</th>\n",
       "      <th>9130</th>\n",
       "      <th>9131</th>\n",
       "      <th>9132</th>\n",
       "      <th>9133</th>\n",
       "    </tr>\n",
       "  </thead>\n",
       "  <tbody>\n",
       "    <tr>\n",
       "      <th>customer</th>\n",
       "      <td>BU79786</td>\n",
       "      <td>QZ44356</td>\n",
       "      <td>AI49188</td>\n",
       "      <td>WW63253</td>\n",
       "      <td>HB64268</td>\n",
       "      <td>OC83172</td>\n",
       "      <td>XZ87318</td>\n",
       "      <td>CF85061</td>\n",
       "      <td>DY87989</td>\n",
       "      <td>BQ94931</td>\n",
       "      <td>...</td>\n",
       "      <td>CB59349</td>\n",
       "      <td>RX91025</td>\n",
       "      <td>AC13887</td>\n",
       "      <td>TF56202</td>\n",
       "      <td>YM19146</td>\n",
       "      <td>LA72316</td>\n",
       "      <td>PK87824</td>\n",
       "      <td>TD14365</td>\n",
       "      <td>UP19263</td>\n",
       "      <td>Y167826</td>\n",
       "    </tr>\n",
       "    <tr>\n",
       "      <th>state</th>\n",
       "      <td>Washington</td>\n",
       "      <td>Arizona</td>\n",
       "      <td>Nevada</td>\n",
       "      <td>California</td>\n",
       "      <td>Washington</td>\n",
       "      <td>Oregon</td>\n",
       "      <td>Oregon</td>\n",
       "      <td>Arizona</td>\n",
       "      <td>Oregon</td>\n",
       "      <td>Oregon</td>\n",
       "      <td>...</td>\n",
       "      <td>California</td>\n",
       "      <td>California</td>\n",
       "      <td>California</td>\n",
       "      <td>California</td>\n",
       "      <td>California</td>\n",
       "      <td>California</td>\n",
       "      <td>California</td>\n",
       "      <td>California</td>\n",
       "      <td>California</td>\n",
       "      <td>California</td>\n",
       "    </tr>\n",
       "    <tr>\n",
       "      <th>response</th>\n",
       "      <td>No</td>\n",
       "      <td>No</td>\n",
       "      <td>No</td>\n",
       "      <td>No</td>\n",
       "      <td>No</td>\n",
       "      <td>Yes</td>\n",
       "      <td>Yes</td>\n",
       "      <td>No</td>\n",
       "      <td>Yes</td>\n",
       "      <td>No</td>\n",
       "      <td>...</td>\n",
       "      <td>No</td>\n",
       "      <td>No</td>\n",
       "      <td>No</td>\n",
       "      <td>No</td>\n",
       "      <td>No</td>\n",
       "      <td>No</td>\n",
       "      <td>Yes</td>\n",
       "      <td>No</td>\n",
       "      <td>No</td>\n",
       "      <td>No</td>\n",
       "    </tr>\n",
       "    <tr>\n",
       "      <th>coverage</th>\n",
       "      <td>Basic</td>\n",
       "      <td>Extended</td>\n",
       "      <td>Premium</td>\n",
       "      <td>Basic</td>\n",
       "      <td>Basic</td>\n",
       "      <td>Basic</td>\n",
       "      <td>Basic</td>\n",
       "      <td>Premium</td>\n",
       "      <td>Basic</td>\n",
       "      <td>Extended</td>\n",
       "      <td>...</td>\n",
       "      <td>Extended</td>\n",
       "      <td>Premium</td>\n",
       "      <td>Basic</td>\n",
       "      <td>Basic</td>\n",
       "      <td>Premium</td>\n",
       "      <td>Basic</td>\n",
       "      <td>Extended</td>\n",
       "      <td>Extended</td>\n",
       "      <td>Extended</td>\n",
       "      <td>Extended</td>\n",
       "    </tr>\n",
       "    <tr>\n",
       "      <th>education</th>\n",
       "      <td>Bachelor</td>\n",
       "      <td>Bachelor</td>\n",
       "      <td>Bachelor</td>\n",
       "      <td>Bachelor</td>\n",
       "      <td>Bachelor</td>\n",
       "      <td>Bachelor</td>\n",
       "      <td>College</td>\n",
       "      <td>Master</td>\n",
       "      <td>Bachelor</td>\n",
       "      <td>College</td>\n",
       "      <td>...</td>\n",
       "      <td>Master</td>\n",
       "      <td>High School or Below</td>\n",
       "      <td>Bachelor</td>\n",
       "      <td>College</td>\n",
       "      <td>College</td>\n",
       "      <td>Bachelor</td>\n",
       "      <td>College</td>\n",
       "      <td>Bachelor</td>\n",
       "      <td>College</td>\n",
       "      <td>College</td>\n",
       "    </tr>\n",
       "    <tr>\n",
       "      <th>effective_to_date</th>\n",
       "      <td>2/24/11</td>\n",
       "      <td>1/31/11</td>\n",
       "      <td>2/19/11</td>\n",
       "      <td>1/20/11</td>\n",
       "      <td>2/3/11</td>\n",
       "      <td>1/25/11</td>\n",
       "      <td>2/24/11</td>\n",
       "      <td>1/18/11</td>\n",
       "      <td>1/26/11</td>\n",
       "      <td>2/17/11</td>\n",
       "      <td>...</td>\n",
       "      <td>1/20/11</td>\n",
       "      <td>1/31/11</td>\n",
       "      <td>1/9/11</td>\n",
       "      <td>2/12/11</td>\n",
       "      <td>1/6/11</td>\n",
       "      <td>2/10/11</td>\n",
       "      <td>2/12/11</td>\n",
       "      <td>2/6/11</td>\n",
       "      <td>2/3/11</td>\n",
       "      <td>2/14/11</td>\n",
       "    </tr>\n",
       "    <tr>\n",
       "      <th>employmentstatus</th>\n",
       "      <td>Employed</td>\n",
       "      <td>Unemployed</td>\n",
       "      <td>Employed</td>\n",
       "      <td>Unemployed</td>\n",
       "      <td>Employed</td>\n",
       "      <td>Employed</td>\n",
       "      <td>Employed</td>\n",
       "      <td>Unemployed</td>\n",
       "      <td>Medical Leave</td>\n",
       "      <td>Employed</td>\n",
       "      <td>...</td>\n",
       "      <td>Employed</td>\n",
       "      <td>Unemployed</td>\n",
       "      <td>Unemployed</td>\n",
       "      <td>Employed</td>\n",
       "      <td>Employed</td>\n",
       "      <td>Employed</td>\n",
       "      <td>Employed</td>\n",
       "      <td>Unemployed</td>\n",
       "      <td>Employed</td>\n",
       "      <td>Unemployed</td>\n",
       "    </tr>\n",
       "    <tr>\n",
       "      <th>gender</th>\n",
       "      <td>F</td>\n",
       "      <td>F</td>\n",
       "      <td>F</td>\n",
       "      <td>M</td>\n",
       "      <td>M</td>\n",
       "      <td>F</td>\n",
       "      <td>F</td>\n",
       "      <td>M</td>\n",
       "      <td>M</td>\n",
       "      <td>F</td>\n",
       "      <td>...</td>\n",
       "      <td>M</td>\n",
       "      <td>M</td>\n",
       "      <td>M</td>\n",
       "      <td>M</td>\n",
       "      <td>F</td>\n",
       "      <td>M</td>\n",
       "      <td>F</td>\n",
       "      <td>M</td>\n",
       "      <td>M</td>\n",
       "      <td>M</td>\n",
       "    </tr>\n",
       "    <tr>\n",
       "      <th>location_code</th>\n",
       "      <td>Suburban</td>\n",
       "      <td>Suburban</td>\n",
       "      <td>Suburban</td>\n",
       "      <td>Suburban</td>\n",
       "      <td>Rural</td>\n",
       "      <td>Rural</td>\n",
       "      <td>Suburban</td>\n",
       "      <td>Urban</td>\n",
       "      <td>Suburban</td>\n",
       "      <td>Urban</td>\n",
       "      <td>...</td>\n",
       "      <td>Suburban</td>\n",
       "      <td>Suburban</td>\n",
       "      <td>Suburban</td>\n",
       "      <td>Suburban</td>\n",
       "      <td>Suburban</td>\n",
       "      <td>Urban</td>\n",
       "      <td>Suburban</td>\n",
       "      <td>Suburban</td>\n",
       "      <td>Suburban</td>\n",
       "      <td>Suburban</td>\n",
       "    </tr>\n",
       "    <tr>\n",
       "      <th>marital_status</th>\n",
       "      <td>Married</td>\n",
       "      <td>Single</td>\n",
       "      <td>Married</td>\n",
       "      <td>Married</td>\n",
       "      <td>Single</td>\n",
       "      <td>Married</td>\n",
       "      <td>Married</td>\n",
       "      <td>Single</td>\n",
       "      <td>Divorced</td>\n",
       "      <td>Married</td>\n",
       "      <td>...</td>\n",
       "      <td>Married</td>\n",
       "      <td>Single</td>\n",
       "      <td>Single</td>\n",
       "      <td>Divorced</td>\n",
       "      <td>Single</td>\n",
       "      <td>Married</td>\n",
       "      <td>Divorced</td>\n",
       "      <td>Single</td>\n",
       "      <td>Married</td>\n",
       "      <td>Single</td>\n",
       "    </tr>\n",
       "    <tr>\n",
       "      <th>policy_type</th>\n",
       "      <td>Corporate Auto</td>\n",
       "      <td>Personal Auto</td>\n",
       "      <td>Personal Auto</td>\n",
       "      <td>Corporate Auto</td>\n",
       "      <td>Personal Auto</td>\n",
       "      <td>Personal Auto</td>\n",
       "      <td>Corporate Auto</td>\n",
       "      <td>Corporate Auto</td>\n",
       "      <td>Corporate Auto</td>\n",
       "      <td>Special Auto</td>\n",
       "      <td>...</td>\n",
       "      <td>Personal Auto</td>\n",
       "      <td>Personal Auto</td>\n",
       "      <td>Corporate Auto</td>\n",
       "      <td>Personal Auto</td>\n",
       "      <td>Personal Auto</td>\n",
       "      <td>Personal Auto</td>\n",
       "      <td>Corporate Auto</td>\n",
       "      <td>Corporate Auto</td>\n",
       "      <td>Personal Auto</td>\n",
       "      <td>Corporate Auto</td>\n",
       "    </tr>\n",
       "    <tr>\n",
       "      <th>policy</th>\n",
       "      <td>Corporate L3</td>\n",
       "      <td>Personal L3</td>\n",
       "      <td>Personal L3</td>\n",
       "      <td>Corporate L2</td>\n",
       "      <td>Personal L1</td>\n",
       "      <td>Personal L3</td>\n",
       "      <td>Corporate L3</td>\n",
       "      <td>Corporate L3</td>\n",
       "      <td>Corporate L3</td>\n",
       "      <td>Special L2</td>\n",
       "      <td>...</td>\n",
       "      <td>Personal L3</td>\n",
       "      <td>Personal L3</td>\n",
       "      <td>Corporate L1</td>\n",
       "      <td>Personal L3</td>\n",
       "      <td>Personal L2</td>\n",
       "      <td>Personal L1</td>\n",
       "      <td>Corporate L3</td>\n",
       "      <td>Corporate L2</td>\n",
       "      <td>Personal L2</td>\n",
       "      <td>Corporate L3</td>\n",
       "    </tr>\n",
       "    <tr>\n",
       "      <th>renew_offer_type</th>\n",
       "      <td>Offer1</td>\n",
       "      <td>Offer3</td>\n",
       "      <td>Offer1</td>\n",
       "      <td>Offer1</td>\n",
       "      <td>Offer1</td>\n",
       "      <td>Offer2</td>\n",
       "      <td>Offer1</td>\n",
       "      <td>Offer1</td>\n",
       "      <td>Offer1</td>\n",
       "      <td>Offer2</td>\n",
       "      <td>...</td>\n",
       "      <td>Offer2</td>\n",
       "      <td>Offer1</td>\n",
       "      <td>Offer1</td>\n",
       "      <td>Offer2</td>\n",
       "      <td>Offer1</td>\n",
       "      <td>Offer2</td>\n",
       "      <td>Offer1</td>\n",
       "      <td>Offer1</td>\n",
       "      <td>Offer3</td>\n",
       "      <td>Offer4</td>\n",
       "    </tr>\n",
       "    <tr>\n",
       "      <th>sales_channel</th>\n",
       "      <td>Agent</td>\n",
       "      <td>Agent</td>\n",
       "      <td>Agent</td>\n",
       "      <td>Call Center</td>\n",
       "      <td>Agent</td>\n",
       "      <td>Web</td>\n",
       "      <td>Agent</td>\n",
       "      <td>Agent</td>\n",
       "      <td>Agent</td>\n",
       "      <td>Branch</td>\n",
       "      <td>...</td>\n",
       "      <td>Agent</td>\n",
       "      <td>Agent</td>\n",
       "      <td>Branch</td>\n",
       "      <td>Call Center</td>\n",
       "      <td>Branch</td>\n",
       "      <td>Web</td>\n",
       "      <td>Branch</td>\n",
       "      <td>Branch</td>\n",
       "      <td>Branch</td>\n",
       "      <td>Call Center</td>\n",
       "    </tr>\n",
       "    <tr>\n",
       "      <th>vehicle_class</th>\n",
       "      <td>Two-Door Car</td>\n",
       "      <td>Four-Door Car</td>\n",
       "      <td>Two-Door Car</td>\n",
       "      <td>SUV</td>\n",
       "      <td>Four-Door Car</td>\n",
       "      <td>Two-Door Car</td>\n",
       "      <td>Four-Door Car</td>\n",
       "      <td>Four-Door Car</td>\n",
       "      <td>Four-Door Car</td>\n",
       "      <td>Four-Door Car</td>\n",
       "      <td>...</td>\n",
       "      <td>SUV</td>\n",
       "      <td>SUV</td>\n",
       "      <td>Two-Door Car</td>\n",
       "      <td>Two-Door Car</td>\n",
       "      <td>Four-Door Car</td>\n",
       "      <td>Four-Door Car</td>\n",
       "      <td>Four-Door Car</td>\n",
       "      <td>Four-Door Car</td>\n",
       "      <td>Four-Door Car</td>\n",
       "      <td>Two-Door Car</td>\n",
       "    </tr>\n",
       "    <tr>\n",
       "      <th>vehicle_size</th>\n",
       "      <td>Medsize</td>\n",
       "      <td>Medsize</td>\n",
       "      <td>Medsize</td>\n",
       "      <td>Medsize</td>\n",
       "      <td>Medsize</td>\n",
       "      <td>Medsize</td>\n",
       "      <td>Medsize</td>\n",
       "      <td>Medsize</td>\n",
       "      <td>Medsize</td>\n",
       "      <td>Medsize</td>\n",
       "      <td>...</td>\n",
       "      <td>Medsize</td>\n",
       "      <td>Small</td>\n",
       "      <td>Medsize</td>\n",
       "      <td>Small</td>\n",
       "      <td>Large</td>\n",
       "      <td>Medsize</td>\n",
       "      <td>Medsize</td>\n",
       "      <td>Medsize</td>\n",
       "      <td>Large</td>\n",
       "      <td>Medsize</td>\n",
       "    </tr>\n",
       "  </tbody>\n",
       "</table>\n",
       "<p>16 rows × 9134 columns</p>\n",
       "</div>"
      ],
      "text/plain": [
       "                             0              1              2     \\\n",
       "customer                  BU79786        QZ44356        AI49188   \n",
       "state                  Washington        Arizona         Nevada   \n",
       "response                       No             No             No   \n",
       "coverage                    Basic       Extended        Premium   \n",
       "education                Bachelor       Bachelor       Bachelor   \n",
       "effective_to_date         2/24/11        1/31/11        2/19/11   \n",
       "employmentstatus         Employed     Unemployed       Employed   \n",
       "gender                          F              F              F   \n",
       "location_code            Suburban       Suburban       Suburban   \n",
       "marital_status            Married         Single        Married   \n",
       "policy_type        Corporate Auto  Personal Auto  Personal Auto   \n",
       "policy               Corporate L3    Personal L3    Personal L3   \n",
       "renew_offer_type           Offer1         Offer3         Offer1   \n",
       "sales_channel               Agent          Agent          Agent   \n",
       "vehicle_class        Two-Door Car  Four-Door Car   Two-Door Car   \n",
       "vehicle_size              Medsize        Medsize        Medsize   \n",
       "\n",
       "                             3              4              5     \\\n",
       "customer                  WW63253        HB64268        OC83172   \n",
       "state                  California     Washington         Oregon   \n",
       "response                       No             No            Yes   \n",
       "coverage                    Basic          Basic          Basic   \n",
       "education                Bachelor       Bachelor       Bachelor   \n",
       "effective_to_date         1/20/11         2/3/11        1/25/11   \n",
       "employmentstatus       Unemployed       Employed       Employed   \n",
       "gender                          M              M              F   \n",
       "location_code            Suburban          Rural          Rural   \n",
       "marital_status            Married         Single        Married   \n",
       "policy_type        Corporate Auto  Personal Auto  Personal Auto   \n",
       "policy               Corporate L2    Personal L1    Personal L3   \n",
       "renew_offer_type           Offer1         Offer1         Offer2   \n",
       "sales_channel         Call Center          Agent            Web   \n",
       "vehicle_class                 SUV  Four-Door Car   Two-Door Car   \n",
       "vehicle_size              Medsize        Medsize        Medsize   \n",
       "\n",
       "                             6               7               8     \\\n",
       "customer                  XZ87318         CF85061         DY87989   \n",
       "state                      Oregon         Arizona          Oregon   \n",
       "response                      Yes              No             Yes   \n",
       "coverage                    Basic         Premium           Basic   \n",
       "education                 College          Master        Bachelor   \n",
       "effective_to_date         2/24/11         1/18/11         1/26/11   \n",
       "employmentstatus         Employed      Unemployed   Medical Leave   \n",
       "gender                          F               M               M   \n",
       "location_code            Suburban           Urban        Suburban   \n",
       "marital_status            Married          Single        Divorced   \n",
       "policy_type        Corporate Auto  Corporate Auto  Corporate Auto   \n",
       "policy               Corporate L3    Corporate L3    Corporate L3   \n",
       "renew_offer_type           Offer1          Offer1          Offer1   \n",
       "sales_channel               Agent           Agent           Agent   \n",
       "vehicle_class       Four-Door Car   Four-Door Car   Four-Door Car   \n",
       "vehicle_size              Medsize         Medsize         Medsize   \n",
       "\n",
       "                            9     ...           9124                  9125  \\\n",
       "customer                 BQ94931  ...        CB59349               RX91025   \n",
       "state                     Oregon  ...     California            California   \n",
       "response                      No  ...             No                    No   \n",
       "coverage                Extended  ...       Extended               Premium   \n",
       "education                College  ...         Master  High School or Below   \n",
       "effective_to_date        2/17/11  ...        1/20/11               1/31/11   \n",
       "employmentstatus        Employed  ...       Employed            Unemployed   \n",
       "gender                         F  ...              M                     M   \n",
       "location_code              Urban  ...       Suburban              Suburban   \n",
       "marital_status           Married  ...        Married                Single   \n",
       "policy_type         Special Auto  ...  Personal Auto         Personal Auto   \n",
       "policy                Special L2  ...    Personal L3           Personal L3   \n",
       "renew_offer_type          Offer2  ...         Offer2                Offer1   \n",
       "sales_channel             Branch  ...          Agent                 Agent   \n",
       "vehicle_class      Four-Door Car  ...            SUV                   SUV   \n",
       "vehicle_size             Medsize  ...        Medsize                 Small   \n",
       "\n",
       "                             9126           9127           9128  \\\n",
       "customer                  AC13887        TF56202        YM19146   \n",
       "state                  California     California     California   \n",
       "response                       No             No             No   \n",
       "coverage                    Basic          Basic        Premium   \n",
       "education                Bachelor        College        College   \n",
       "effective_to_date          1/9/11        2/12/11         1/6/11   \n",
       "employmentstatus       Unemployed       Employed       Employed   \n",
       "gender                          M              M              F   \n",
       "location_code            Suburban       Suburban       Suburban   \n",
       "marital_status             Single       Divorced         Single   \n",
       "policy_type        Corporate Auto  Personal Auto  Personal Auto   \n",
       "policy               Corporate L1    Personal L3    Personal L2   \n",
       "renew_offer_type           Offer1         Offer2         Offer1   \n",
       "sales_channel              Branch    Call Center         Branch   \n",
       "vehicle_class        Two-Door Car   Two-Door Car  Four-Door Car   \n",
       "vehicle_size              Medsize          Small          Large   \n",
       "\n",
       "                            9129            9130            9131  \\\n",
       "customer                 LA72316         PK87824         TD14365   \n",
       "state                 California      California      California   \n",
       "response                      No             Yes              No   \n",
       "coverage                   Basic        Extended        Extended   \n",
       "education               Bachelor         College        Bachelor   \n",
       "effective_to_date        2/10/11         2/12/11          2/6/11   \n",
       "employmentstatus        Employed        Employed      Unemployed   \n",
       "gender                         M               F               M   \n",
       "location_code              Urban        Suburban        Suburban   \n",
       "marital_status           Married        Divorced          Single   \n",
       "policy_type        Personal Auto  Corporate Auto  Corporate Auto   \n",
       "policy               Personal L1    Corporate L3    Corporate L2   \n",
       "renew_offer_type          Offer2          Offer1          Offer1   \n",
       "sales_channel                Web          Branch          Branch   \n",
       "vehicle_class      Four-Door Car   Four-Door Car   Four-Door Car   \n",
       "vehicle_size             Medsize         Medsize         Medsize   \n",
       "\n",
       "                            9132            9133  \n",
       "customer                 UP19263         Y167826  \n",
       "state                 California      California  \n",
       "response                      No              No  \n",
       "coverage                Extended        Extended  \n",
       "education                College         College  \n",
       "effective_to_date         2/3/11         2/14/11  \n",
       "employmentstatus        Employed      Unemployed  \n",
       "gender                         M               M  \n",
       "location_code           Suburban        Suburban  \n",
       "marital_status           Married          Single  \n",
       "policy_type        Personal Auto  Corporate Auto  \n",
       "policy               Personal L2    Corporate L3  \n",
       "renew_offer_type          Offer3          Offer4  \n",
       "sales_channel             Branch     Call Center  \n",
       "vehicle_class      Four-Door Car    Two-Door Car  \n",
       "vehicle_size               Large         Medsize  \n",
       "\n",
       "[16 rows x 9134 columns]"
      ]
     },
     "execution_count": 5,
     "metadata": {},
     "output_type": "execute_result"
    }
   ],
   "source": [
    "categoricals.T"
   ]
  },
  {
   "cell_type": "code",
   "execution_count": 6,
   "id": "e25573d7",
   "metadata": {},
   "outputs": [
    {
     "data": {
      "text/html": [
       "<div>\n",
       "<style scoped>\n",
       "    .dataframe tbody tr th:only-of-type {\n",
       "        vertical-align: middle;\n",
       "    }\n",
       "\n",
       "    .dataframe tbody tr th {\n",
       "        vertical-align: top;\n",
       "    }\n",
       "\n",
       "    .dataframe thead th {\n",
       "        text-align: right;\n",
       "    }\n",
       "</style>\n",
       "<table border=\"1\" class=\"dataframe\">\n",
       "  <thead>\n",
       "    <tr style=\"text-align: right;\">\n",
       "      <th></th>\n",
       "      <th>count</th>\n",
       "      <th>unique</th>\n",
       "      <th>top</th>\n",
       "      <th>freq</th>\n",
       "    </tr>\n",
       "  </thead>\n",
       "  <tbody>\n",
       "    <tr>\n",
       "      <th>customer</th>\n",
       "      <td>9134</td>\n",
       "      <td>9134</td>\n",
       "      <td>BU79786</td>\n",
       "      <td>1</td>\n",
       "    </tr>\n",
       "    <tr>\n",
       "      <th>state</th>\n",
       "      <td>9134</td>\n",
       "      <td>5</td>\n",
       "      <td>California</td>\n",
       "      <td>3150</td>\n",
       "    </tr>\n",
       "    <tr>\n",
       "      <th>response</th>\n",
       "      <td>9134</td>\n",
       "      <td>2</td>\n",
       "      <td>No</td>\n",
       "      <td>7826</td>\n",
       "    </tr>\n",
       "    <tr>\n",
       "      <th>coverage</th>\n",
       "      <td>9134</td>\n",
       "      <td>3</td>\n",
       "      <td>Basic</td>\n",
       "      <td>5568</td>\n",
       "    </tr>\n",
       "    <tr>\n",
       "      <th>education</th>\n",
       "      <td>9134</td>\n",
       "      <td>5</td>\n",
       "      <td>Bachelor</td>\n",
       "      <td>2748</td>\n",
       "    </tr>\n",
       "    <tr>\n",
       "      <th>effective_to_date</th>\n",
       "      <td>9134</td>\n",
       "      <td>59</td>\n",
       "      <td>1/10/11</td>\n",
       "      <td>195</td>\n",
       "    </tr>\n",
       "    <tr>\n",
       "      <th>employmentstatus</th>\n",
       "      <td>9134</td>\n",
       "      <td>5</td>\n",
       "      <td>Employed</td>\n",
       "      <td>5698</td>\n",
       "    </tr>\n",
       "    <tr>\n",
       "      <th>gender</th>\n",
       "      <td>9134</td>\n",
       "      <td>2</td>\n",
       "      <td>F</td>\n",
       "      <td>4658</td>\n",
       "    </tr>\n",
       "    <tr>\n",
       "      <th>location_code</th>\n",
       "      <td>9134</td>\n",
       "      <td>3</td>\n",
       "      <td>Suburban</td>\n",
       "      <td>5779</td>\n",
       "    </tr>\n",
       "    <tr>\n",
       "      <th>marital_status</th>\n",
       "      <td>9134</td>\n",
       "      <td>3</td>\n",
       "      <td>Married</td>\n",
       "      <td>5298</td>\n",
       "    </tr>\n",
       "    <tr>\n",
       "      <th>policy_type</th>\n",
       "      <td>9134</td>\n",
       "      <td>3</td>\n",
       "      <td>Personal Auto</td>\n",
       "      <td>6788</td>\n",
       "    </tr>\n",
       "    <tr>\n",
       "      <th>policy</th>\n",
       "      <td>9134</td>\n",
       "      <td>9</td>\n",
       "      <td>Personal L3</td>\n",
       "      <td>3426</td>\n",
       "    </tr>\n",
       "    <tr>\n",
       "      <th>renew_offer_type</th>\n",
       "      <td>9134</td>\n",
       "      <td>4</td>\n",
       "      <td>Offer1</td>\n",
       "      <td>3752</td>\n",
       "    </tr>\n",
       "    <tr>\n",
       "      <th>sales_channel</th>\n",
       "      <td>9134</td>\n",
       "      <td>4</td>\n",
       "      <td>Agent</td>\n",
       "      <td>3477</td>\n",
       "    </tr>\n",
       "    <tr>\n",
       "      <th>vehicle_class</th>\n",
       "      <td>9134</td>\n",
       "      <td>6</td>\n",
       "      <td>Four-Door Car</td>\n",
       "      <td>4621</td>\n",
       "    </tr>\n",
       "    <tr>\n",
       "      <th>vehicle_size</th>\n",
       "      <td>9134</td>\n",
       "      <td>3</td>\n",
       "      <td>Medsize</td>\n",
       "      <td>6424</td>\n",
       "    </tr>\n",
       "  </tbody>\n",
       "</table>\n",
       "</div>"
      ],
      "text/plain": [
       "                  count unique            top  freq\n",
       "customer           9134   9134        BU79786     1\n",
       "state              9134      5     California  3150\n",
       "response           9134      2             No  7826\n",
       "coverage           9134      3          Basic  5568\n",
       "education          9134      5       Bachelor  2748\n",
       "effective_to_date  9134     59        1/10/11   195\n",
       "employmentstatus   9134      5       Employed  5698\n",
       "gender             9134      2              F  4658\n",
       "location_code      9134      3       Suburban  5779\n",
       "marital_status     9134      3        Married  5298\n",
       "policy_type        9134      3  Personal Auto  6788\n",
       "policy             9134      9    Personal L3  3426\n",
       "renew_offer_type   9134      4         Offer1  3752\n",
       "sales_channel      9134      4          Agent  3477\n",
       "vehicle_class      9134      6  Four-Door Car  4621\n",
       "vehicle_size       9134      3        Medsize  6424"
      ]
     },
     "execution_count": 6,
     "metadata": {},
     "output_type": "execute_result"
    }
   ],
   "source": [
    "categoricals.describe().T"
   ]
  },
  {
   "cell_type": "markdown",
   "id": "6da2611c",
   "metadata": {},
   "source": [
    "#### 2. Plot all the categorical variables with the proper plot. What can you see?"
   ]
  },
  {
   "cell_type": "code",
   "execution_count": 7,
   "id": "59833457",
   "metadata": {},
   "outputs": [
    {
     "data": {
      "image/png": "[encoded data removed]",
      "text/plain": [
       "<Figure size 432x288 with 1 Axes>"
      ]
     },
     "metadata": {},
     "output_type": "display_data"
    },
    {
     "data": {
      "image/png": "[encoded data removed]",
      "text/plain": [
       "<Figure size 432x288 with 1 Axes>"
      ]
     },
     "metadata": {},
     "output_type": "display_data"
    },
    {
     "data": {
      "image/png": "[encoded data removed]",
      "text/plain": [
       "<Figure size 432x288 with 1 Axes>"
      ]
     },
     "metadata": {},
     "output_type": "display_data"
    },
    {
     "data": {
      "image/png": "[encoded data removed]",
      "text/plain": [
       "<Figure size 432x288 with 1 Axes>"
      ]
     },
     "metadata": {},
     "output_type": "display_data"
    },
    {
     "data": {
      "image/png": "[encoded data removed]",
      "text/plain": [
       "<Figure size 432x288 with 1 Axes>"
      ]
     },
     "metadata": {},
     "output_type": "display_data"
    },
    {
     "data": {
      "image/png": "[encoded data removed]",
      "text/plain": [
       "<Figure size 432x288 with 1 Axes>"
      ]
     },
     "metadata": {},
     "output_type": "display_data"
    },
    {
     "data": {
      "image/png": "[encoded data removed]",
      "text/plain": [
       "<Figure size 432x288 with 1 Axes>"
      ]
     },
     "metadata": {},
     "output_type": "display_data"
    },
    {
     "data": {
      "image/png": "[encoded data removed]",
      "text/plain": [
       "<Figure size 432x288 with 1 Axes>"
      ]
     },
     "metadata": {},
     "output_type": "display_data"
    },
    {
     "data": {
      "image/png": "[encoded data removed]",
      "text/plain": [
       "<Figure size 432x288 with 1 Axes>"
      ]
     },
     "metadata": {},
     "output_type": "display_data"
    },
    {
     "data": {
      "image/png": "[encoded data removed]",
      "text/plain": [
       "<Figure size 432x288 with 1 Axes>"
      ]
     },
     "metadata": {},
     "output_type": "display_data"
    },
    {
     "data": {
      "image/png": "[encoded data removed]",
      "text/plain": [
       "<Figure size 432x288 with 1 Axes>"
      ]
     },
     "metadata": {},
     "output_type": "display_data"
    },
    {
     "data": {
      "image/png": "[encoded data removed]",
      "text/plain": [
       "<Figure size 432x288 with 1 Axes>"
      ]
     },
     "metadata": {},
     "output_type": "display_data"
    },
    {
     "data": {
      "image/png": "[encoded data removed]",
      "text/plain": [
       "<Figure size 432x288 with 1 Axes>"
      ]
     },
     "metadata": {},
     "output_type": "display_data"
    },
    {
     "data": {
      "image/png": "[encoded data removed]",
      "text/plain": [
       "<Figure size 432x288 with 1 Axes>"
      ]
     },
     "metadata": {},
     "output_type": "display_data"
    },
    {
     "data": {
      "image/png": "[encoded data removed]",
      "text/plain": [
       "<Figure size 432x288 with 1 Axes>"
      ]
     },
     "metadata": {},
     "output_type": "display_data"
    },
    {
     "data": {
      "image/png": "[encoded data removed]",
      "text/plain": [
       "<Figure size 432x288 with 1 Axes>"
      ]
     },
     "metadata": {},
     "output_type": "display_data"
    }
   ],
   "source": [
    "for i in categoricals.columns:\n",
    "    if(i!='total_claim_amount'):\n",
    "        categoricals.drop(['customer'], axis= 1)\n",
    "        categoricals.drop(['effective_to_date'], axis= 1)\n",
    "        #gapminder_ocean.drop(['pop'], axis=1)\n",
    "        sns.countplot(x=i, data = categoricals)\n",
    "        plt.show()\n",
    "    else:\n",
    "        break\n",
    "#         plt.scatter(categoricals['total_claim_amount'],categoricals[i])\n",
    "#         plt.show()\n",
    "#         categoricals[i].hist(bins=20)\n",
    "#         plt.show()\n",
    "#        sns.boxplot(x=i, y='total_claim_amount', data=categoricals)\n",
    "#        plt.show()\n"
   ]
  },
  {
   "cell_type": "code",
   "execution_count": null,
   "id": "2ae6a4bc",
   "metadata": {},
   "outputs": [],
   "source": [
    "#categoricals = categoricals.drop(['customer'], axis= 1)"
   ]
  },
  {
   "cell_type": "code",
   "execution_count": null,
   "id": "ce460362",
   "metadata": {},
   "outputs": [],
   "source": [
    "# for i in categoricals.columns:\n",
    "#     if(i!='customer'):\n",
    "#         sns.boxplot(x=i, y='customer', data=categoricals)\n",
    "#         plt.show()\n",
    "#     else:\n",
    "#         break\n"
   ]
  },
  {
   "cell_type": "code",
   "execution_count": null,
   "id": "0f5a71a3",
   "metadata": {},
   "outputs": [],
   "source": [
    "# The profile of our customers can be summarized as a person that:\n",
    "# 1/ is from california/oregon\n",
    "# 2/ normmally doesn't respond to any of our sales_channels\n",
    "# 3/ he wants basic coverage\n",
    "# 4/ he's and adult that is employed \n",
    "# 5/ lives in the suburbs\n",
    "# 6/ is married\n",
    "# 7/ it's his personal car (a four door car that is medium sized)\n"
   ]
  },
  {
   "cell_type": "code",
   "execution_count": 8,
   "id": "3c7d23e8",
   "metadata": {},
   "outputs": [
    {
     "data": {
      "text/plain": [
       "California    3150\n",
       "Oregon        2601\n",
       "Arizona       1703\n",
       "Nevada         882\n",
       "Washington     798\n",
       "Name: state, dtype: int64"
      ]
     },
     "execution_count": 8,
     "metadata": {},
     "output_type": "execute_result"
    }
   ],
   "source": [
    "categoricals['state'].value_counts()"
   ]
  },
  {
   "cell_type": "code",
   "execution_count": 9,
   "id": "667f51fe",
   "metadata": {},
   "outputs": [
    {
     "data": {
      "text/plain": [
       "<AxesSubplot:xlabel='state', ylabel='count'>"
      ]
     },
     "execution_count": 9,
     "metadata": {},
     "output_type": "execute_result"
    },
    {
     "data": {
      "image/png": "[encoded data removed]",
      "text/plain": [
       "<Figure size 432x288 with 1 Axes>"
      ]
     },
     "metadata": {},
     "output_type": "display_data"
    }
   ],
   "source": [
    "sns.countplot(x=categoricals['state'], data = categoricals)"
   ]
  },
  {
   "cell_type": "code",
   "execution_count": 10,
   "id": "0b632519",
   "metadata": {},
   "outputs": [
    {
     "data": {
      "text/plain": [
       "No     7826\n",
       "Yes    1308\n",
       "Name: response, dtype: int64"
      ]
     },
     "execution_count": 10,
     "metadata": {},
     "output_type": "execute_result"
    }
   ],
   "source": [
    "categoricals['response'].value_counts()"
   ]
  },
  {
   "cell_type": "code",
   "execution_count": 11,
   "id": "d91bb798",
   "metadata": {},
   "outputs": [
    {
     "data": {
      "text/plain": [
       "<AxesSubplot:xlabel='response', ylabel='count'>"
      ]
     },
     "execution_count": 11,
     "metadata": {},
     "output_type": "execute_result"
    },
    {
     "data": {
      "image/png": "[encoded data removed]",
      "text/plain": [
       "<Figure size 432x288 with 1 Axes>"
      ]
     },
     "metadata": {},
     "output_type": "display_data"
    }
   ],
   "source": [
    "sns.countplot(x=categoricals['response'], data = categoricals)"
   ]
  },
  {
   "cell_type": "code",
   "execution_count": 12,
   "id": "f26f402c",
   "metadata": {},
   "outputs": [
    {
     "data": {
      "text/plain": [
       "Basic       5568\n",
       "Extended    2742\n",
       "Premium      824\n",
       "Name: coverage, dtype: int64"
      ]
     },
     "execution_count": 12,
     "metadata": {},
     "output_type": "execute_result"
    }
   ],
   "source": [
    "categoricals['coverage'].value_counts()"
   ]
  },
  {
   "cell_type": "code",
   "execution_count": 13,
   "id": "ce68d6cd",
   "metadata": {},
   "outputs": [
    {
     "data": {
      "text/plain": [
       "<AxesSubplot:xlabel='coverage', ylabel='count'>"
      ]
     },
     "execution_count": 13,
     "metadata": {},
     "output_type": "execute_result"
    },
    {
     "data": {
      "image/png": "[encoded data removed]",
      "text/plain": [
       "<Figure size 432x288 with 1 Axes>"
      ]
     },
     "metadata": {},
     "output_type": "display_data"
    }
   ],
   "source": [
    "sns.countplot(x=categoricals['coverage'], data = categoricals)"
   ]
  },
  {
   "cell_type": "code",
   "execution_count": 14,
   "id": "846123c9",
   "metadata": {},
   "outputs": [
    {
     "data": {
      "text/plain": [
       "Bachelor                2748\n",
       "College                 2681\n",
       "High School or Below    2622\n",
       "Master                   741\n",
       "Doctor                   342\n",
       "Name: education, dtype: int64"
      ]
     },
     "execution_count": 14,
     "metadata": {},
     "output_type": "execute_result"
    }
   ],
   "source": [
    "categoricals['education'].value_counts()"
   ]
  },
  {
   "cell_type": "code",
   "execution_count": 15,
   "id": "92beaffd",
   "metadata": {},
   "outputs": [
    {
     "data": {
      "text/plain": [
       "<AxesSubplot:xlabel='education', ylabel='count'>"
      ]
     },
     "execution_count": 15,
     "metadata": {},
     "output_type": "execute_result"
    },
    {
     "data": {
      "image/png": "[encoded data removed]",
      "text/plain": [
       "<Figure size 432x288 with 1 Axes>"
      ]
     },
     "metadata": {},
     "output_type": "display_data"
    }
   ],
   "source": [
    "sns.countplot(x=categoricals['education'], data = categoricals)"
   ]
  },
  {
   "cell_type": "code",
   "execution_count": 16,
   "id": "40406e32",
   "metadata": {},
   "outputs": [
    {
     "data": {
      "text/plain": [
       "Employed         5698\n",
       "Unemployed       2317\n",
       "Medical Leave     432\n",
       "Disabled          405\n",
       "Retired           282\n",
       "Name: employmentstatus, dtype: int64"
      ]
     },
     "execution_count": 16,
     "metadata": {},
     "output_type": "execute_result"
    }
   ],
   "source": [
    "categoricals['employmentstatus'].value_counts()"
   ]
  },
  {
   "cell_type": "code",
   "execution_count": 17,
   "id": "c8bcdafa",
   "metadata": {},
   "outputs": [
    {
     "data": {
      "text/plain": [
       "<AxesSubplot:xlabel='employmentstatus', ylabel='count'>"
      ]
     },
     "execution_count": 17,
     "metadata": {},
     "output_type": "execute_result"
    },
    {
     "data": {
      "image/png": "[encoded data removed]",
      "text/plain": [
       "<Figure size 432x288 with 1 Axes>"
      ]
     },
     "metadata": {},
     "output_type": "display_data"
    }
   ],
   "source": [
    "sns.countplot(x=categoricals['employmentstatus'], data = categoricals)"
   ]
  },
  {
   "cell_type": "code",
   "execution_count": 18,
   "id": "3bc2508f",
   "metadata": {},
   "outputs": [
    {
     "data": {
      "text/plain": [
       "F    4658\n",
       "M    4476\n",
       "Name: gender, dtype: int64"
      ]
     },
     "execution_count": 18,
     "metadata": {},
     "output_type": "execute_result"
    }
   ],
   "source": [
    "categoricals['gender'].value_counts()"
   ]
  },
  {
   "cell_type": "code",
   "execution_count": 19,
   "id": "230e58b9",
   "metadata": {},
   "outputs": [
    {
     "data": {
      "text/plain": [
       "<AxesSubplot:xlabel='gender', ylabel='count'>"
      ]
     },
     "execution_count": 19,
     "metadata": {},
     "output_type": "execute_result"
    },
    {
     "data": {
      "image/png": "[encoded data removed]",
      "text/plain": [
       "<Figure size 432x288 with 1 Axes>"
      ]
     },
     "metadata": {},
     "output_type": "display_data"
    }
   ],
   "source": [
    "sns.countplot(x=categoricals['gender'], data = categoricals)"
   ]
  },
  {
   "cell_type": "code",
   "execution_count": 20,
   "id": "128e15d4",
   "metadata": {},
   "outputs": [
    {
     "data": {
      "text/plain": [
       "Suburban    5779\n",
       "Rural       1773\n",
       "Urban       1582\n",
       "Name: location_code, dtype: int64"
      ]
     },
     "execution_count": 20,
     "metadata": {},
     "output_type": "execute_result"
    }
   ],
   "source": [
    "categoricals['location_code'].value_counts()"
   ]
  },
  {
   "cell_type": "code",
   "execution_count": 21,
   "id": "3f601455",
   "metadata": {},
   "outputs": [
    {
     "data": {
      "text/plain": [
       "<AxesSubplot:xlabel='location_code', ylabel='count'>"
      ]
     },
     "execution_count": 21,
     "metadata": {},
     "output_type": "execute_result"
    },
    {
     "data": {
      "image/png": "[encoded data removed]",
      "text/plain": [
       "<Figure size 432x288 with 1 Axes>"
      ]
     },
     "metadata": {},
     "output_type": "display_data"
    }
   ],
   "source": [
    "sns.countplot(x=categoricals['location_code'], data = categoricals)"
   ]
  },
  {
   "cell_type": "code",
   "execution_count": 22,
   "id": "7807a093",
   "metadata": {},
   "outputs": [
    {
     "data": {
      "text/plain": [
       "Married     5298\n",
       "Single      2467\n",
       "Divorced    1369\n",
       "Name: marital_status, dtype: int64"
      ]
     },
     "execution_count": 22,
     "metadata": {},
     "output_type": "execute_result"
    }
   ],
   "source": [
    "categoricals['marital_status'].value_counts()"
   ]
  },
  {
   "cell_type": "code",
   "execution_count": 23,
   "id": "46f54963",
   "metadata": {},
   "outputs": [
    {
     "data": {
      "text/plain": [
       "<AxesSubplot:xlabel='marital_status', ylabel='count'>"
      ]
     },
     "execution_count": 23,
     "metadata": {},
     "output_type": "execute_result"
    },
    {
     "data": {
      "image/png": "[encoded data removed]",
      "text/plain": [
       "<Figure size 432x288 with 1 Axes>"
      ]
     },
     "metadata": {},
     "output_type": "display_data"
    }
   ],
   "source": [
    "sns.countplot(x=categoricals['marital_status'], data = categoricals)"
   ]
  },
  {
   "cell_type": "code",
   "execution_count": 24,
   "id": "219e9372",
   "metadata": {},
   "outputs": [
    {
     "data": {
      "text/plain": [
       "Personal Auto     6788\n",
       "Corporate Auto    1968\n",
       "Special Auto       378\n",
       "Name: policy_type, dtype: int64"
      ]
     },
     "execution_count": 24,
     "metadata": {},
     "output_type": "execute_result"
    }
   ],
   "source": [
    "categoricals['policy_type'].value_counts()"
   ]
  },
  {
   "cell_type": "code",
   "execution_count": 25,
   "id": "3d37931e",
   "metadata": {},
   "outputs": [
    {
     "data": {
      "text/plain": [
       "<AxesSubplot:xlabel='policy_type', ylabel='count'>"
      ]
     },
     "execution_count": 25,
     "metadata": {},
     "output_type": "execute_result"
    },
    {
     "data": {
      "image/png": "[encoded data removed]",
      "text/plain": [
       "<Figure size 432x288 with 1 Axes>"
      ]
     },
     "metadata": {},
     "output_type": "display_data"
    }
   ],
   "source": [
    "sns.countplot(x=categoricals['policy_type'], data = categoricals)"
   ]
  },
  {
   "cell_type": "code",
   "execution_count": 26,
   "id": "37ab987d",
   "metadata": {},
   "outputs": [
    {
     "data": {
      "text/plain": [
       "Personal L3     3426\n",
       "Personal L2     2122\n",
       "Personal L1     1240\n",
       "Corporate L3    1014\n",
       "Corporate L2     595\n",
       "Corporate L1     359\n",
       "Special L2       164\n",
       "Special L3       148\n",
       "Special L1        66\n",
       "Name: policy, dtype: int64"
      ]
     },
     "execution_count": 26,
     "metadata": {},
     "output_type": "execute_result"
    }
   ],
   "source": [
    "categoricals['policy'].value_counts()"
   ]
  },
  {
   "cell_type": "code",
   "execution_count": 27,
   "id": "6c94325c",
   "metadata": {},
   "outputs": [
    {
     "data": {
      "text/plain": [
       "<AxesSubplot:xlabel='policy', ylabel='count'>"
      ]
     },
     "execution_count": 27,
     "metadata": {},
     "output_type": "execute_result"
    },
    {
     "data": {
      "image/png": "[encoded data removed]",
      "text/plain": [
       "<Figure size 432x288 with 1 Axes>"
      ]
     },
     "metadata": {},
     "output_type": "display_data"
    }
   ],
   "source": [
    "sns.countplot(x=categoricals['policy'], data = categoricals)"
   ]
  },
  {
   "cell_type": "code",
   "execution_count": 28,
   "id": "cba2dc66",
   "metadata": {},
   "outputs": [
    {
     "data": {
      "text/plain": [
       "Offer1    3752\n",
       "Offer2    2926\n",
       "Offer3    1432\n",
       "Offer4    1024\n",
       "Name: renew_offer_type, dtype: int64"
      ]
     },
     "execution_count": 28,
     "metadata": {},
     "output_type": "execute_result"
    }
   ],
   "source": [
    "categoricals['renew_offer_type'].value_counts()"
   ]
  },
  {
   "cell_type": "code",
   "execution_count": 29,
   "id": "ccdef1da",
   "metadata": {},
   "outputs": [
    {
     "data": {
      "text/plain": [
       "<AxesSubplot:xlabel='renew_offer_type', ylabel='count'>"
      ]
     },
     "execution_count": 29,
     "metadata": {},
     "output_type": "execute_result"
    },
    {
     "data": {
      "image/png": "[encoded data removed]",
      "text/plain": [
       "<Figure size 432x288 with 1 Axes>"
      ]
     },
     "metadata": {},
     "output_type": "display_data"
    }
   ],
   "source": [
    "sns.countplot(x=categoricals['renew_offer_type'], data = categoricals)"
   ]
  },
  {
   "cell_type": "code",
   "execution_count": 30,
   "id": "507f7640",
   "metadata": {},
   "outputs": [
    {
     "data": {
      "text/plain": [
       "Agent          3477\n",
       "Branch         2567\n",
       "Call Center    1765\n",
       "Web            1325\n",
       "Name: sales_channel, dtype: int64"
      ]
     },
     "execution_count": 30,
     "metadata": {},
     "output_type": "execute_result"
    }
   ],
   "source": [
    "categoricals['sales_channel'].value_counts()"
   ]
  },
  {
   "cell_type": "code",
   "execution_count": 31,
   "id": "5bda568c",
   "metadata": {},
   "outputs": [
    {
     "data": {
      "text/plain": [
       "<AxesSubplot:xlabel='sales_channel', ylabel='count'>"
      ]
     },
     "execution_count": 31,
     "metadata": {},
     "output_type": "execute_result"
    },
    {
     "data": {
      "image/png": "[encoded data removed]",
      "text/plain": [
       "<Figure size 432x288 with 1 Axes>"
      ]
     },
     "metadata": {},
     "output_type": "display_data"
    }
   ],
   "source": [
    "sns.countplot(x=categoricals['sales_channel'], data = categoricals)"
   ]
  },
  {
   "cell_type": "code",
   "execution_count": 32,
   "id": "96a1cd93",
   "metadata": {},
   "outputs": [
    {
     "data": {
      "text/plain": [
       "Four-Door Car    4621\n",
       "Two-Door Car     1886\n",
       "SUV              1796\n",
       "Sports Car        484\n",
       "Luxury SUV        184\n",
       "Luxury Car        163\n",
       "Name: vehicle_class, dtype: int64"
      ]
     },
     "execution_count": 32,
     "metadata": {},
     "output_type": "execute_result"
    }
   ],
   "source": [
    "categoricals['vehicle_class'].value_counts()"
   ]
  },
  {
   "cell_type": "code",
   "execution_count": 33,
   "id": "a3d5a5a5",
   "metadata": {},
   "outputs": [
    {
     "data": {
      "text/plain": [
       "<AxesSubplot:xlabel='vehicle_class', ylabel='count'>"
      ]
     },
     "execution_count": 33,
     "metadata": {},
     "output_type": "execute_result"
    },
    {
     "data": {
      "image/png": "[encoded data removed]",
      "text/plain": [
       "<Figure size 432x288 with 1 Axes>"
      ]
     },
     "metadata": {},
     "output_type": "display_data"
    }
   ],
   "source": [
    "sns.countplot(x=categoricals['vehicle_class'], data = categoricals)"
   ]
  },
  {
   "cell_type": "code",
   "execution_count": 36,
   "id": "941b54e9",
   "metadata": {},
   "outputs": [
    {
     "data": {
      "text/plain": [
       "Medsize    6424\n",
       "Small      1764\n",
       "Large       946\n",
       "Name: vehicle_size, dtype: int64"
      ]
     },
     "execution_count": 36,
     "metadata": {},
     "output_type": "execute_result"
    }
   ],
   "source": [
    "categoricals['vehicle_size'].value_counts()"
   ]
  },
  {
   "cell_type": "code",
   "execution_count": 37,
   "id": "f03f5e61",
   "metadata": {},
   "outputs": [
    {
     "data": {
      "text/plain": [
       "<AxesSubplot:xlabel='vehicle_size', ylabel='count'>"
      ]
     },
     "execution_count": 37,
     "metadata": {},
     "output_type": "execute_result"
    },
    {
     "data": {
      "image/png": "[encoded data removed]",
      "text/plain": [
       "<Figure size 432x288 with 1 Axes>"
      ]
     },
     "metadata": {},
     "output_type": "display_data"
    }
   ],
   "source": [
    "sns.countplot(x=categoricals['vehicle_size'], data = categoricals)"
   ]
  },
  {
   "cell_type": "code",
   "execution_count": null,
   "id": "4756c7f5",
   "metadata": {},
   "outputs": [],
   "source": []
  },
  {
   "cell_type": "markdown",
   "id": "8c9eeb9c",
   "metadata": {},
   "source": [
    "#### 3. There might be some columns that seem to be redundant, check their values to be sure. What should we do with them?"
   ]
  },
  {
   "cell_type": "code",
   "execution_count": null,
   "id": "321b74f6",
   "metadata": {},
   "outputs": [],
   "source": []
  },
  {
   "cell_type": "markdown",
   "id": "25896ed3",
   "metadata": {},
   "source": [
    "#### 4. Plot time variable. Can you extract something from it?"
   ]
  },
  {
   "cell_type": "code",
   "execution_count": null,
   "id": "9f60e001",
   "metadata": {},
   "outputs": [],
   "source": [
    "# We consider that effective_to_date could be the date in which the information of the customers was updated and given that \n",
    "# they are call contained in eithe January or February, we don't see a considerable relationship between this column and \n",
    "# the target value"
   ]
  },
  {
   "cell_type": "code",
   "execution_count": null,
   "id": "780b4766",
   "metadata": {},
   "outputs": [],
   "source": []
  }
 ],
 "metadata": {
  "kernelspec": {
   "display_name": "Python 3 (ipykernel)",
   "language": "python",
   "name": "python3"
  },
  "language_info": {
   "codemirror_mode": {
    "name": "ipython",
    "version": 3
   },
   "file_extension": ".py",
   "mimetype": "text/x-python",
   "name": "python",
   "nbconvert_exporter": "python",
   "pygments_lexer": "ipython3",
   "version": "3.9.12"
  }
 },
 "nbformat": 4,
 "nbformat_minor": 5
}
